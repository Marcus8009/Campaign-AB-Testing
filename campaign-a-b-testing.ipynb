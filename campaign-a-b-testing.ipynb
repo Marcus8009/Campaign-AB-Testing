{
 "cells": [
  {
   "cell_type": "code",
   "execution_count": 75,
   "metadata": {
    "_cell_guid": "b1076dfc-b9ad-4769-8c92-a6c4dae69d19",
    "_uuid": "8f2839f25d086af736a60e9eeb907d3b93b6e0e5",
    "execution": {
     "iopub.execute_input": "2025-01-18T12:29:58.200212Z",
     "iopub.status.busy": "2025-01-18T12:29:58.199836Z",
     "iopub.status.idle": "2025-01-18T12:29:58.206920Z",
     "shell.execute_reply": "2025-01-18T12:29:58.205851Z",
     "shell.execute_reply.started": "2025-01-18T12:29:58.200179Z"
    },
    "trusted": true
   },
   "outputs": [
    {
     "name": "stdout",
     "output_type": "stream",
     "text": [
      "/kaggle/input/ab-testing-dataset/test_group.csv\n",
      "/kaggle/input/ab-testing-dataset/control_group.csv\n"
     ]
    }
   ],
   "source": [
    "# This Python 3 environment comes with many helpful analytics libraries installed\n",
    "# It is defined by the kaggle/python Docker image: https://github.com/kaggle/docker-python\n",
    "# For example, here's several helpful packages to load\n",
    "\n",
    "import numpy as np # linear algebra\n",
    "import pandas as pd # data processing, CSV file I/O (e.g. pd.read_csv)\n",
    "\n",
    "# Input data files are available in the read-only \"../input/\" directory\n",
    "# For example, running this (by clicking run or pressing Shift+Enter) will list all files under the input directory\n",
    "\n",
    "import os\n",
    "for dirname, _, filenames in os.walk('/kaggle/input'):\n",
    "    for filename in filenames:\n",
    "        print(os.path.join(dirname, filename))\n",
    "\n",
    "# You can write up to 20GB to the current directory (/kaggle/working/) that gets preserved as output when you create a version using \"Save & Run All\" \n",
    "# You can also write temporary files to /kaggle/temp/, but they won't be saved outside of the current session"
   ]
  },
  {
   "cell_type": "code",
   "execution_count": 76,
   "metadata": {
    "execution": {
     "iopub.execute_input": "2025-01-18T12:30:02.110629Z",
     "iopub.status.busy": "2025-01-18T12:30:02.110226Z",
     "iopub.status.idle": "2025-01-18T12:30:02.114999Z",
     "shell.execute_reply": "2025-01-18T12:30:02.113683Z",
     "shell.execute_reply.started": "2025-01-18T12:30:02.110596Z"
    },
    "trusted": true
   },
   "outputs": [],
   "source": [
    "import pandas as pd\n",
    "import numpy as np\n",
    "from scipy import stats\n",
    "\n"
   ]
  },
  {
   "cell_type": "code",
   "execution_count": 77,
   "metadata": {
    "execution": {
     "iopub.execute_input": "2025-01-18T12:30:05.896360Z",
     "iopub.status.busy": "2025-01-18T12:30:05.895997Z",
     "iopub.status.idle": "2025-01-18T12:30:05.906221Z",
     "shell.execute_reply": "2025-01-18T12:30:05.904937Z",
     "shell.execute_reply.started": "2025-01-18T12:30:05.896327Z"
    },
    "trusted": true
   },
   "outputs": [],
   "source": [
    "# Load the datasets from the provided file paths\n",
    "control_group = pd.read_csv('/kaggle/input/ab-testing-dataset/control_group.csv', sep=\";\")\n",
    "test_group = pd.read_csv('/kaggle/input/ab-testing-dataset/test_group.csv', sep=\";\")"
   ]
  },
  {
   "cell_type": "code",
   "execution_count": 78,
   "metadata": {
    "execution": {
     "iopub.execute_input": "2025-01-18T12:30:16.001753Z",
     "iopub.status.busy": "2025-01-18T12:30:16.001347Z",
     "iopub.status.idle": "2025-01-18T12:30:16.019854Z",
     "shell.execute_reply": "2025-01-18T12:30:16.018523Z",
     "shell.execute_reply.started": "2025-01-18T12:30:16.001718Z"
    },
    "trusted": true
   },
   "outputs": [
    {
     "name": "stderr",
     "output_type": "stream",
     "text": [
      "/usr/local/lib/python3.10/dist-packages/pandas/io/formats/format.py:1458: RuntimeWarning: invalid value encountered in greater\n",
      "  has_large_values = (abs_vals > 1e6).any()\n",
      "/usr/local/lib/python3.10/dist-packages/pandas/io/formats/format.py:1459: RuntimeWarning: invalid value encountered in less\n",
      "  has_small_values = ((abs_vals < 10 ** (-self.digits)) & (abs_vals > 0)).any()\n",
      "/usr/local/lib/python3.10/dist-packages/pandas/io/formats/format.py:1459: RuntimeWarning: invalid value encountered in greater\n",
      "  has_small_values = ((abs_vals < 10 ** (-self.digits)) & (abs_vals > 0)).any()\n"
     ]
    },
    {
     "data": {
      "text/html": [
       "<div>\n",
       "<style scoped>\n",
       "    .dataframe tbody tr th:only-of-type {\n",
       "        vertical-align: middle;\n",
       "    }\n",
       "\n",
       "    .dataframe tbody tr th {\n",
       "        vertical-align: top;\n",
       "    }\n",
       "\n",
       "    .dataframe thead th {\n",
       "        text-align: right;\n",
       "    }\n",
       "</style>\n",
       "<table border=\"1\" class=\"dataframe\">\n",
       "  <thead>\n",
       "    <tr style=\"text-align: right;\">\n",
       "      <th></th>\n",
       "      <th>Campaign Name</th>\n",
       "      <th>Date</th>\n",
       "      <th>Spend [USD]</th>\n",
       "      <th># of Impressions</th>\n",
       "      <th>Reach</th>\n",
       "      <th># of Website Clicks</th>\n",
       "      <th># of Searches</th>\n",
       "      <th># of View Content</th>\n",
       "      <th># of Add to Cart</th>\n",
       "      <th># of Purchase</th>\n",
       "    </tr>\n",
       "  </thead>\n",
       "  <tbody>\n",
       "    <tr>\n",
       "      <th>0</th>\n",
       "      <td>Control Campaign</td>\n",
       "      <td>1.08.2019</td>\n",
       "      <td>2280</td>\n",
       "      <td>82702.0</td>\n",
       "      <td>56930.0</td>\n",
       "      <td>7016.0</td>\n",
       "      <td>2290.0</td>\n",
       "      <td>2159.0</td>\n",
       "      <td>1819.0</td>\n",
       "      <td>618.0</td>\n",
       "    </tr>\n",
       "    <tr>\n",
       "      <th>1</th>\n",
       "      <td>Control Campaign</td>\n",
       "      <td>2.08.2019</td>\n",
       "      <td>1757</td>\n",
       "      <td>121040.0</td>\n",
       "      <td>102513.0</td>\n",
       "      <td>8110.0</td>\n",
       "      <td>2033.0</td>\n",
       "      <td>1841.0</td>\n",
       "      <td>1219.0</td>\n",
       "      <td>511.0</td>\n",
       "    </tr>\n",
       "    <tr>\n",
       "      <th>2</th>\n",
       "      <td>Control Campaign</td>\n",
       "      <td>3.08.2019</td>\n",
       "      <td>2343</td>\n",
       "      <td>131711.0</td>\n",
       "      <td>110862.0</td>\n",
       "      <td>6508.0</td>\n",
       "      <td>1737.0</td>\n",
       "      <td>1549.0</td>\n",
       "      <td>1134.0</td>\n",
       "      <td>372.0</td>\n",
       "    </tr>\n",
       "    <tr>\n",
       "      <th>3</th>\n",
       "      <td>Control Campaign</td>\n",
       "      <td>4.08.2019</td>\n",
       "      <td>1940</td>\n",
       "      <td>72878.0</td>\n",
       "      <td>61235.0</td>\n",
       "      <td>3065.0</td>\n",
       "      <td>1042.0</td>\n",
       "      <td>982.0</td>\n",
       "      <td>1183.0</td>\n",
       "      <td>340.0</td>\n",
       "    </tr>\n",
       "    <tr>\n",
       "      <th>4</th>\n",
       "      <td>Control Campaign</td>\n",
       "      <td>5.08.2019</td>\n",
       "      <td>1835</td>\n",
       "      <td>NaN</td>\n",
       "      <td>NaN</td>\n",
       "      <td>NaN</td>\n",
       "      <td>NaN</td>\n",
       "      <td>NaN</td>\n",
       "      <td>NaN</td>\n",
       "      <td>NaN</td>\n",
       "    </tr>\n",
       "  </tbody>\n",
       "</table>\n",
       "</div>"
      ],
      "text/plain": [
       "      Campaign Name       Date  Spend [USD]  # of Impressions     Reach  \\\n",
       "0  Control Campaign  1.08.2019         2280           82702.0   56930.0   \n",
       "1  Control Campaign  2.08.2019         1757          121040.0  102513.0   \n",
       "2  Control Campaign  3.08.2019         2343          131711.0  110862.0   \n",
       "3  Control Campaign  4.08.2019         1940           72878.0   61235.0   \n",
       "4  Control Campaign  5.08.2019         1835               NaN       NaN   \n",
       "\n",
       "   # of Website Clicks  # of Searches  # of View Content  # of Add to Cart  \\\n",
       "0               7016.0         2290.0             2159.0            1819.0   \n",
       "1               8110.0         2033.0             1841.0            1219.0   \n",
       "2               6508.0         1737.0             1549.0            1134.0   \n",
       "3               3065.0         1042.0              982.0            1183.0   \n",
       "4                  NaN            NaN                NaN               NaN   \n",
       "\n",
       "   # of Purchase  \n",
       "0          618.0  \n",
       "1          511.0  \n",
       "2          372.0  \n",
       "3          340.0  \n",
       "4            NaN  "
      ]
     },
     "execution_count": 78,
     "metadata": {},
     "output_type": "execute_result"
    }
   ],
   "source": [
    "# Merge the dataframes\n",
    "df = pd.concat([control_group, test_group], ignore_index=True)\n",
    "\n",
    "# Display the first few rows of the merged dataframe\n",
    "df.head()"
   ]
  },
  {
   "cell_type": "code",
   "execution_count": 79,
   "metadata": {
    "execution": {
     "iopub.execute_input": "2025-01-18T12:30:21.902602Z",
     "iopub.status.busy": "2025-01-18T12:30:21.902158Z",
     "iopub.status.idle": "2025-01-18T12:30:21.913969Z",
     "shell.execute_reply": "2025-01-18T12:30:21.912862Z",
     "shell.execute_reply.started": "2025-01-18T12:30:21.902565Z"
    },
    "trusted": true
   },
   "outputs": [
    {
     "name": "stdout",
     "output_type": "stream",
     "text": [
      "<class 'pandas.core.frame.DataFrame'>\n",
      "RangeIndex: 60 entries, 0 to 59\n",
      "Data columns (total 10 columns):\n",
      " #   Column               Non-Null Count  Dtype  \n",
      "---  ------               --------------  -----  \n",
      " 0   Campaign Name        60 non-null     object \n",
      " 1   Date                 60 non-null     object \n",
      " 2   Spend [USD]          60 non-null     int64  \n",
      " 3   # of Impressions     59 non-null     float64\n",
      " 4   Reach                59 non-null     float64\n",
      " 5   # of Website Clicks  59 non-null     float64\n",
      " 6   # of Searches        59 non-null     float64\n",
      " 7   # of View Content    59 non-null     float64\n",
      " 8   # of Add to Cart     59 non-null     float64\n",
      " 9   # of Purchase        59 non-null     float64\n",
      "dtypes: float64(7), int64(1), object(2)\n",
      "memory usage: 4.8+ KB\n"
     ]
    }
   ],
   "source": [
    "df.info()"
   ]
  },
  {
   "cell_type": "code",
   "execution_count": 81,
   "metadata": {
    "execution": {
     "iopub.execute_input": "2025-01-18T12:30:56.764429Z",
     "iopub.status.busy": "2025-01-18T12:30:56.764055Z",
     "iopub.status.idle": "2025-01-18T12:30:56.772080Z",
     "shell.execute_reply": "2025-01-18T12:30:56.771001Z",
     "shell.execute_reply.started": "2025-01-18T12:30:56.764395Z"
    },
    "trusted": true
   },
   "outputs": [
    {
     "name": "stdout",
     "output_type": "stream",
     "text": [
      "Campaign Name          0\n",
      "Date                   0\n",
      "Spend [USD]            0\n",
      "# of Impressions       0\n",
      "Reach                  0\n",
      "# of Website Clicks    0\n",
      "# of Searches          0\n",
      "# of View Content      0\n",
      "# of Add to Cart       0\n",
      "# of Purchase          0\n",
      "dtype: int64\n"
     ]
    }
   ],
   "source": [
    "# Step 1: Data Preparation\n",
    "# Ensure that the dataset is clean and ready for analysis\n",
    "\n",
    "# Check for missing values\n",
    "print(df.isnull().sum())\n",
    "\n",
    "# Fill or drop missing values if necessary\n",
    "df = df.dropna()\n"
   ]
  },
  {
   "cell_type": "code",
   "execution_count": 82,
   "metadata": {
    "execution": {
     "iopub.execute_input": "2025-01-18T12:30:59.711419Z",
     "iopub.status.busy": "2025-01-18T12:30:59.711085Z",
     "iopub.status.idle": "2025-01-18T12:30:59.717977Z",
     "shell.execute_reply": "2025-01-18T12:30:59.716929Z",
     "shell.execute_reply.started": "2025-01-18T12:30:59.711392Z"
    },
    "trusted": true
   },
   "outputs": [
    {
     "data": {
      "text/plain": [
       "Index(['Campaign Name', 'Date', 'Spend [USD]', '# of Impressions', 'Reach',\n",
       "       '# of Website Clicks', '# of Searches', '# of View Content',\n",
       "       '# of Add to Cart', '# of Purchase'],\n",
       "      dtype='object')"
      ]
     },
     "execution_count": 82,
     "metadata": {},
     "output_type": "execute_result"
    }
   ],
   "source": [
    "df.columns"
   ]
  },
  {
   "cell_type": "code",
   "execution_count": 83,
   "metadata": {
    "execution": {
     "iopub.execute_input": "2025-01-18T12:31:11.422920Z",
     "iopub.status.busy": "2025-01-18T12:31:11.422592Z",
     "iopub.status.idle": "2025-01-18T12:31:11.435223Z",
     "shell.execute_reply": "2025-01-18T12:31:11.433918Z",
     "shell.execute_reply.started": "2025-01-18T12:31:11.422895Z"
    },
    "trusted": true
   },
   "outputs": [],
   "source": [
    "# Convert columns to appropriate data types\n",
    "df['Campaign Name'] = df['Campaign Name'].astype('category')\n",
    "df['Date'] = pd.to_datetime(df['Date'], format='%d.%m.%Y')\n",
    "df['Spend [USD]'] = df['Spend [USD]'].astype(float)\n",
    "df['# of Impressions'] = df['# of Impressions'].astype(int)\n",
    "df['Reach'] = df['Reach'].astype(int)\n",
    "df['# of Website Clicks'] = df['# of Website Clicks'].astype(int)\n",
    "df['# of Searches'] = df['# of Searches'].astype(int)\n",
    "df['# of View Content'] = df['# of View Content'].astype(int)\n",
    "df['# of Add to Cart'] = df['# of Add to Cart'].astype(int)\n",
    "df['# of Purchase'] = df['# of Purchase'].astype(int)"
   ]
  },
  {
   "cell_type": "code",
   "execution_count": 84,
   "metadata": {
    "execution": {
     "iopub.execute_input": "2025-01-18T12:31:14.881439Z",
     "iopub.status.busy": "2025-01-18T12:31:14.881106Z",
     "iopub.status.idle": "2025-01-18T12:31:14.915127Z",
     "shell.execute_reply": "2025-01-18T12:31:14.914091Z",
     "shell.execute_reply.started": "2025-01-18T12:31:14.881413Z"
    },
    "trusted": true
   },
   "outputs": [
    {
     "data": {
      "text/html": [
       "<div>\n",
       "<style scoped>\n",
       "    .dataframe tbody tr th:only-of-type {\n",
       "        vertical-align: middle;\n",
       "    }\n",
       "\n",
       "    .dataframe tbody tr th {\n",
       "        vertical-align: top;\n",
       "    }\n",
       "\n",
       "    .dataframe thead th {\n",
       "        text-align: right;\n",
       "    }\n",
       "</style>\n",
       "<table border=\"1\" class=\"dataframe\">\n",
       "  <thead>\n",
       "    <tr style=\"text-align: right;\">\n",
       "      <th></th>\n",
       "      <th>Date</th>\n",
       "      <th>Spend [USD]</th>\n",
       "      <th># of Impressions</th>\n",
       "      <th>Reach</th>\n",
       "      <th># of Website Clicks</th>\n",
       "      <th># of Searches</th>\n",
       "      <th># of View Content</th>\n",
       "      <th># of Add to Cart</th>\n",
       "      <th># of Purchase</th>\n",
       "    </tr>\n",
       "  </thead>\n",
       "  <tbody>\n",
       "    <tr>\n",
       "      <th>count</th>\n",
       "      <td>59</td>\n",
       "      <td>59.000000</td>\n",
       "      <td>59.000000</td>\n",
       "      <td>59.000000</td>\n",
       "      <td>59.000000</td>\n",
       "      <td>59.000000</td>\n",
       "      <td>59.000000</td>\n",
       "      <td>59.000000</td>\n",
       "      <td>59.000000</td>\n",
       "    </tr>\n",
       "    <tr>\n",
       "      <th>mean</th>\n",
       "      <td>2019-08-15 16:16:16.271186432</td>\n",
       "      <td>2435.762712</td>\n",
       "      <td>91775.881356</td>\n",
       "      <td>70868.644068</td>\n",
       "      <td>5682.593220</td>\n",
       "      <td>2321.813559</td>\n",
       "      <td>1900.169492</td>\n",
       "      <td>1087.220339</td>\n",
       "      <td>522.000000</td>\n",
       "    </tr>\n",
       "    <tr>\n",
       "      <th>min</th>\n",
       "      <td>2019-08-01 00:00:00</td>\n",
       "      <td>1757.000000</td>\n",
       "      <td>22521.000000</td>\n",
       "      <td>10598.000000</td>\n",
       "      <td>2277.000000</td>\n",
       "      <td>1001.000000</td>\n",
       "      <td>848.000000</td>\n",
       "      <td>278.000000</td>\n",
       "      <td>222.000000</td>\n",
       "    </tr>\n",
       "    <tr>\n",
       "      <th>25%</th>\n",
       "      <td>2019-08-08 12:00:00</td>\n",
       "      <td>2113.500000</td>\n",
       "      <td>68853.500000</td>\n",
       "      <td>43230.000000</td>\n",
       "      <td>4227.500000</td>\n",
       "      <td>1962.500000</td>\n",
       "      <td>1249.000000</td>\n",
       "      <td>848.500000</td>\n",
       "      <td>340.000000</td>\n",
       "    </tr>\n",
       "    <tr>\n",
       "      <th>50%</th>\n",
       "      <td>2019-08-16 00:00:00</td>\n",
       "      <td>2421.000000</td>\n",
       "      <td>95843.000000</td>\n",
       "      <td>76219.000000</td>\n",
       "      <td>5691.000000</td>\n",
       "      <td>2390.000000</td>\n",
       "      <td>1975.000000</td>\n",
       "      <td>1075.000000</td>\n",
       "      <td>501.000000</td>\n",
       "    </tr>\n",
       "    <tr>\n",
       "      <th>75%</th>\n",
       "      <td>2019-08-23 00:00:00</td>\n",
       "      <td>2743.000000</td>\n",
       "      <td>117315.000000</td>\n",
       "      <td>95490.500000</td>\n",
       "      <td>7218.500000</td>\n",
       "      <td>2778.500000</td>\n",
       "      <td>2424.000000</td>\n",
       "      <td>1386.500000</td>\n",
       "      <td>693.000000</td>\n",
       "    </tr>\n",
       "    <tr>\n",
       "      <th>max</th>\n",
       "      <td>2019-08-30 00:00:00</td>\n",
       "      <td>3112.000000</td>\n",
       "      <td>145248.000000</td>\n",
       "      <td>127852.000000</td>\n",
       "      <td>8264.000000</td>\n",
       "      <td>4891.000000</td>\n",
       "      <td>4219.000000</td>\n",
       "      <td>1913.000000</td>\n",
       "      <td>890.000000</td>\n",
       "    </tr>\n",
       "    <tr>\n",
       "      <th>std</th>\n",
       "      <td>NaN</td>\n",
       "      <td>376.358795</td>\n",
       "      <td>32465.070636</td>\n",
       "      <td>31023.653515</td>\n",
       "      <td>1754.777559</td>\n",
       "      <td>669.040576</td>\n",
       "      <td>687.263844</td>\n",
       "      <td>430.205246</td>\n",
       "      <td>196.973917</td>\n",
       "    </tr>\n",
       "  </tbody>\n",
       "</table>\n",
       "</div>"
      ],
      "text/plain": [
       "                                Date  Spend [USD]  # of Impressions  \\\n",
       "count                             59    59.000000         59.000000   \n",
       "mean   2019-08-15 16:16:16.271186432  2435.762712      91775.881356   \n",
       "min              2019-08-01 00:00:00  1757.000000      22521.000000   \n",
       "25%              2019-08-08 12:00:00  2113.500000      68853.500000   \n",
       "50%              2019-08-16 00:00:00  2421.000000      95843.000000   \n",
       "75%              2019-08-23 00:00:00  2743.000000     117315.000000   \n",
       "max              2019-08-30 00:00:00  3112.000000     145248.000000   \n",
       "std                              NaN   376.358795      32465.070636   \n",
       "\n",
       "               Reach  # of Website Clicks  # of Searches  # of View Content  \\\n",
       "count      59.000000            59.000000      59.000000          59.000000   \n",
       "mean    70868.644068          5682.593220    2321.813559        1900.169492   \n",
       "min     10598.000000          2277.000000    1001.000000         848.000000   \n",
       "25%     43230.000000          4227.500000    1962.500000        1249.000000   \n",
       "50%     76219.000000          5691.000000    2390.000000        1975.000000   \n",
       "75%     95490.500000          7218.500000    2778.500000        2424.000000   \n",
       "max    127852.000000          8264.000000    4891.000000        4219.000000   \n",
       "std     31023.653515          1754.777559     669.040576         687.263844   \n",
       "\n",
       "       # of Add to Cart  # of Purchase  \n",
       "count         59.000000      59.000000  \n",
       "mean        1087.220339     522.000000  \n",
       "min          278.000000     222.000000  \n",
       "25%          848.500000     340.000000  \n",
       "50%         1075.000000     501.000000  \n",
       "75%         1386.500000     693.000000  \n",
       "max         1913.000000     890.000000  \n",
       "std          430.205246     196.973917  "
      ]
     },
     "execution_count": 84,
     "metadata": {},
     "output_type": "execute_result"
    }
   ],
   "source": [
    "df.describe()"
   ]
  },
  {
   "cell_type": "code",
   "execution_count": 85,
   "metadata": {
    "execution": {
     "iopub.execute_input": "2025-01-18T12:31:19.018111Z",
     "iopub.status.busy": "2025-01-18T12:31:19.017617Z",
     "iopub.status.idle": "2025-01-18T12:31:19.054830Z",
     "shell.execute_reply": "2025-01-18T12:31:19.053631Z",
     "shell.execute_reply.started": "2025-01-18T12:31:19.018073Z"
    },
    "trusted": true
   },
   "outputs": [
    {
     "name": "stdout",
     "output_type": "stream",
     "text": [
      "\n",
      "Metric: Spend [USD]\n",
      "T-statistic: -2.793240375594836\n",
      "P-value: 0.007093062303374369\n",
      "Reject the null hypothesis. There is a significant difference between the control and test groups.\n",
      "\n",
      "Metric: # of Impressions\n",
      "T-statistic: 4.884544325740239\n",
      "P-value: 8.774394114329258e-06\n",
      "Reject the null hypothesis. There is a significant difference between the control and test groups.\n",
      "\n",
      "Metric: Reach\n",
      "T-statistic: 5.300379386681559\n",
      "P-value: 1.946208181590047e-06\n",
      "Reject the null hypothesis. There is a significant difference between the control and test groups.\n",
      "\n",
      "Metric: # of Website Clicks\n",
      "T-statistic: -1.576909404840952\n",
      "P-value: 0.12035072366063822\n",
      "Fail to reject the null hypothesis. There is no significant difference between the control and test groups.\n",
      "\n",
      "Metric: # of Searches\n",
      "T-statistic: -1.1373340684043094\n",
      "P-value: 0.26015715752487034\n",
      "Fail to reject the null hypothesis. There is no significant difference between the control and test groups.\n",
      "\n",
      "Metric: # of View Content\n",
      "T-statistic: 0.47615455602474466\n",
      "P-value: 0.6357843704297139\n",
      "Fail to reject the null hypothesis. There is no significant difference between the control and test groups.\n",
      "\n",
      "Metric: # of Add to Cart\n",
      "T-statistic: 4.24906420944249\n",
      "P-value: 8.032960071149041e-05\n",
      "Reject the null hypothesis. There is a significant difference between the control and test groups.\n",
      "\n",
      "Metric: # of Purchase\n",
      "T-statistic: 0.03014479856562245\n",
      "P-value: 0.9760568756579724\n",
      "Fail to reject the null hypothesis. There is no significant difference between the control and test groups.\n"
     ]
    }
   ],
   "source": [
    "# Step 2: Define Control and Test Groups\n",
    "control_group = df[df['Campaign Name'] == 'Control Campaign']\n",
    "test_group = df[df['Campaign Name'] == 'Test Campaign']\n",
    "\n",
    "# Step 3: Perform Multiple A/B Tests for All Appropriate Columns\n",
    "metrics = ['Spend [USD]', '# of Impressions', 'Reach', '# of Website Clicks', '# of Searches', '# of View Content', '# of Add to Cart', '# of Purchase']\n",
    "\n",
    "results = {}\n",
    "\n",
    "for metric in metrics:\n",
    "    control_metric = control_group[metric]\n",
    "    test_metric = test_group[metric]\n",
    "    \n",
    "    t_stat, p_value = stats.ttest_ind(control_metric, test_metric)\n",
    "    \n",
    "    results[metric] = {\n",
    "        'T-statistic': t_stat,\n",
    "        'P-value': p_value,\n",
    "        'Significant': p_value < 0.05\n",
    "    }\n",
    "\n",
    "# Display the results\n",
    "for metric, result in results.items():\n",
    "    print(f\"\\nMetric: {metric}\")\n",
    "    print(f\"T-statistic: {result['T-statistic']}\")\n",
    "    print(f\"P-value: {result['P-value']}\")\n",
    "    if result['Significant']:\n",
    "        print(\"Reject the null hypothesis. There is a significant difference between the control and test groups.\")\n",
    "    else:\n",
    "        print(\"Fail to reject the null hypothesis. There is no significant difference between the control and test groups.\")"
   ]
  },
  {
   "cell_type": "markdown",
   "metadata": {},
   "source": [
    "# Summary\n",
    "\n",
    "- **Significant Differences**:\n",
    "  - **Spending [USD]**: Control group spent more.\n",
    "  - **Number of Impressions**: Test group had more impressions.\n",
    "  - **Reach**: Test group had higher reach.\n",
    "  - **Number of Adds to Cart**: Test group had more adds to cart.\n",
    "\n",
    "- **No Significant Differences**:\n",
    "  - **Number of Website Clicks**\n",
    "  - **Number of Searches**\n",
    "  - **Number of Content Views**\n",
    "  - **Number of Purchases**"
   ]
  },
  {
   "cell_type": "markdown",
   "metadata": {},
   "source": [
    "# Conclusion\n",
    "\n",
    "## The A/B testing results indicate significant differences between the control and test groups for the following metrics:\n",
    "\n",
    "- **Spend [USD]**: The test group spent less on average.\n",
    "- **Number of Impressions**: The test group had more impressions.\n",
    "- **Reach**: The test group had a higher reach.\n",
    "- **Number of Add to Cart**: The test group had more adds to cart.\n",
    "\n",
    "For the other metrics (website clicks, searches, view content, and purchases), there were no significant differences between the control and test groups. This suggests that while the test campaign was more effective in terms of impressions, reach, and adds to cart, it did not significantly impact website clicks, searches, content views, or purchases. The test group did reduce spending, therefore there should be consideration on whether the benefits seen outweigh the costs. "
   ]
  },
  {
   "cell_type": "markdown",
   "metadata": {},
   "source": []
  }
 ],
 "metadata": {
  "kernelspec": {
   "display_name": "Python 3",
   "language": "python",
   "name": "python3"
  },
  "language_info": {
   "codemirror_mode": {
    "name": "ipython",
    "version": 3
   },
   "file_extension": ".py",
   "mimetype": "text/x-python",
   "name": "python",
   "nbconvert_exporter": "python",
   "pygments_lexer": "ipython3",
   "version": "3.10.12"
  }
 },
 "nbformat": 4,
 "nbformat_minor": 4
}
